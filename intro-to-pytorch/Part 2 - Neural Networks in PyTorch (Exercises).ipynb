{
 "cells": [
  {
   "cell_type": "markdown",
   "metadata": {},
   "source": [
    "# Neural networks with PyTorch\n",
    "\n",
    "Deep learning networks tend to be massive with dozens or hundreds of layers, that's where the term \"deep\" comes from. You can build one of these deep networks using only weight matrices as we did in the previous notebook, but in general it's very cumbersome and difficult to implement. PyTorch has a nice module `nn` that provides a nice way to efficiently build large neural networks."
   ]
  },
  {
   "cell_type": "code",
   "execution_count": 1,
   "metadata": {},
   "outputs": [],
   "source": [
    "# Import necessary packages\n",
    "\n",
    "%matplotlib inline\n",
    "%config InlineBackend.figure_format = 'retina'\n",
    "\n",
    "import numpy as np\n",
    "import torch\n",
    "\n",
    "import helper\n",
    "\n",
    "import matplotlib.pyplot as plt"
   ]
  },
  {
   "cell_type": "markdown",
   "metadata": {},
   "source": [
    "\n",
    "Now we're going to build a larger network that can solve a (formerly) difficult problem, identifying text in an image. Here we'll use the MNIST dataset which consists of greyscale handwritten digits. Each image is 28x28 pixels, you can see a sample below\n",
    "\n",
    "<img src='assets/mnist.png'>\n",
    "\n",
    "Our goal is to build a neural network that can take one of these images and predict the digit in the image.\n",
    "\n",
    "First up, we need to get our dataset. This is provided through the `torchvision` package. The code below will download the MNIST dataset, then create training and test datasets for us. Don't worry too much about the details here, you'll learn more about this later."
   ]
  },
  {
   "cell_type": "code",
   "execution_count": 2,
   "metadata": {},
   "outputs": [],
   "source": [
    "### Run this cell\n",
    "\n",
    "from torchvision import datasets, transforms\n",
    "\n",
    "# Define a transform to normalize the data\n",
    "transform = transforms.Compose([transforms.ToTensor(),\n",
    "                              transforms.Normalize((0.5,), (0.5,)),\n",
    "                              ])\n",
    "\n",
    "# Download and load the training data\n",
    "trainset = datasets.MNIST('~/.pytorch/MNIST_data/', download=True, train=True, transform=transform)\n",
    "trainloader = torch.utils.data.DataLoader(trainset, batch_size=64, shuffle=True)"
   ]
  },
  {
   "cell_type": "markdown",
   "metadata": {},
   "source": [
    "We have the training data loaded into `trainloader` and we make that an iterator with `iter(trainloader)`. Later, we'll use this to loop through the dataset for training, like\n",
    "\n",
    "```python\n",
    "for image, label in trainloader:\n",
    "    ## do things with images and labels\n",
    "```\n",
    "\n",
    "You'll notice I created the `trainloader` with a batch size of 64, and `shuffle=True`. The batch size is the number of images we get in one iteration from the data loader and pass through our network, often called a *batch*. And `shuffle=True` tells it to shuffle the dataset every time we start going through the data loader again. But here I'm just grabbing the first batch so we can check out the data. We can see below that `images` is just a tensor with size `(64, 1, 28, 28)`. So, 64 images per batch, 1 color channel, and 28x28 images."
   ]
  },
  {
   "cell_type": "code",
   "execution_count": 3,
   "metadata": {},
   "outputs": [
    {
     "name": "stdout",
     "output_type": "stream",
     "text": [
      "<class 'torch.Tensor'>\n",
      "torch.Size([64, 1, 28, 28])\n",
      "torch.Size([64])\n"
     ]
    }
   ],
   "source": [
    "dataiter = iter(trainloader)\n",
    "images, labels = dataiter.next()\n",
    "print(type(images))\n",
    "print(images.shape)\n",
    "print(labels.shape)"
   ]
  },
  {
   "cell_type": "markdown",
   "metadata": {},
   "source": [
    "This is what one of the images looks like. "
   ]
  },
  {
   "cell_type": "code",
   "execution_count": 4,
   "metadata": {
    "scrolled": true
   },
   "outputs": [
    {
     "data": {
      "image/png": "[encoded data removed]",
      "text/plain": [
       "<Figure size 432x288 with 1 Axes>"
      ]
     },
     "metadata": {
      "image/png": {
       "height": 248,
       "width": 251
      },
      "needs_background": "light"
     },
     "output_type": "display_data"
    }
   ],
   "source": [
    "plt.imshow(images[1].numpy().squeeze(), cmap='Greys_r');"
   ]
  },
  {
   "cell_type": "markdown",
   "metadata": {},
   "source": [
    "First, let's try to build a simple network for this dataset using weight matrices and matrix multiplications. Then, we'll see how to do it using PyTorch's `nn` module which provides a much more convenient and powerful method for defining network architectures.\n",
    "\n",
    "The networks you've seen so far are called *fully-connected* or *dense* networks. Each unit in one layer is connected to each unit in the next layer. In fully-connected networks, the input to each layer must be a one-dimensional vector (which can be stacked into a 2D tensor as a batch of multiple examples). However, our images are 28x28 2D tensors, so we need to convert them into 1D vectors. Thinking about sizes, we need to convert the batch of images with shape `(64, 1, 28, 28)` to a have a shape of `(64, 784)`, 784 is 28 times 28. This is typically called *flattening*, we flattened the 2D images into 1D vectors.\n",
    "\n",
    "Previously you built a network with one output unit. Here we need 10 output units, one for each digit. We want our network to predict the digit shown in an image, so what we'll do is calculate probabilities that the image is of any one digit or class. This ends up being a discrete probability distribution over the classes (digits) that tells us the most likely class for the image. That means we need 10 output units for the 10 classes (digits). We'll see how to convert the network output into a probability distribution next.\n",
    "\n",
    "> **Exercise:** Flatten the batch of images `images`. Then build a multi-layer network with 784 input units, 256 hidden units, and 10 output units using random tensors for the weights and biases. For now, use a sigmoid activation for the hidden layer. Leave the output layer without an activation, we'll add one that gives us a probability distribution next."
   ]
  },
  {
   "cell_type": "code",
   "execution_count": 5,
   "metadata": {},
   "outputs": [
    {
     "name": "stdout",
     "output_type": "stream",
     "text": [
      "torch.Size([64, 784])\n",
      "torch.Size([784, 256])\n",
      "torch.Size([64, 256])\n",
      "torch.Size([64, 10])\n"
     ]
    },
    {
     "data": {
      "text/plain": [
       "tensor([[-1.8784e+01,  6.0246e-01, -9.1588e+00, -2.1131e+00, -3.1266e-01,\n",
       "          1.4571e+00,  2.8459e+01, -5.1370e+00,  6.9088e+00, -8.3445e+00,\n",
       "         -2.4967e+01,  5.2252e+00, -1.9579e+00, -7.6774e+00, -3.2518e+00,\n",
       "          4.2605e+00,  3.0202e+01, -3.1723e+00, -4.4089e+00, -2.3221e+00,\n",
       "         -1.6567e+01,  6.6749e+00, -1.3427e+01, -4.7213e+00,  1.1902e+00,\n",
       "         -3.5129e+00,  2.4696e+01,  4.8272e+00,  3.6938e+00, -1.5644e+01,\n",
       "         -1.8137e+01,  2.6736e+00, -2.1582e+00, -4.7728e+00, -2.5682e+00,\n",
       "         -1.2189e+01,  2.0521e+01, -3.5886e-01,  1.2480e+00, -8.6090e+00,\n",
       "         -8.6944e+00,  3.5688e+00, -5.9118e+00, -7.3122e+00, -4.6175e+00,\n",
       "         -8.3617e+00,  3.2522e+01, -3.9060e+00, -3.0599e+00, -4.9482e+00,\n",
       "         -1.9440e+01,  7.6047e+00, -1.1203e+01, -2.1148e+01, -3.6335e+00,\n",
       "          2.5564e+00,  3.0014e+01,  4.9550e+00,  4.4832e+00, -1.0584e+01,\n",
       "         -1.8929e+01,  1.7832e+00, -7.3416e+00,  2.4898e+00,  1.4574e+00,\n",
       "         -4.4165e+00,  2.2561e+01, -2.1918e+00, -3.8442e+00, -1.5626e+01,\n",
       "         -1.5562e+01,  2.6526e+00,  2.6544e+00, -7.7010e+00, -3.3401e+00,\n",
       "         -4.8034e+00,  2.5365e+01,  2.8212e-01,  1.9374e+00, -7.6790e+00,\n",
       "         -1.4600e+01, -9.2113e+00, -6.8018e+00, -5.6562e+00, -3.6931e-01,\n",
       "         -5.3385e+00,  2.0483e+01, -5.4872e+00, -4.7714e+00, -7.1705e+00,\n",
       "         -1.8338e+01,  5.2507e+00,  7.1639e-01, -1.4893e+01,  4.5656e+00,\n",
       "         -5.1508e+00,  3.4939e+01, -5.0998e+00, -1.5848e+00, -1.5311e+01,\n",
       "         -1.5086e+01, -6.0022e+00,  2.4887e+00, -9.4263e+00, -7.6989e-01,\n",
       "         -3.6540e+00,  1.4454e+01, -4.4248e-01,  6.6540e+00, -1.2674e+01,\n",
       "         -1.8102e+01,  1.3064e+01, -4.8563e+00, -1.5394e-01, -4.0086e+00,\n",
       "         -1.5567e+00,  1.5905e+01,  2.9174e+00, -5.6078e-01, -2.2446e+00,\n",
       "         -1.6770e+01,  2.7552e-01, -1.2284e+01, -1.1422e+00,  2.8104e+00,\n",
       "         -2.9113e+00,  2.8247e+01,  9.7448e-02, -1.3828e+00, -5.5955e+00,\n",
       "         -2.4602e+01,  1.3561e+00, -4.3701e-01,  2.6056e+00, -7.8554e+00,\n",
       "         -6.8235e-01,  1.0265e+01, -6.2944e+00,  9.5723e+00, -3.8162e+00,\n",
       "         -1.5668e+01,  8.0401e+00,  2.6068e+00, -8.0226e+00,  7.3478e-01,\n",
       "          2.2210e+00,  1.4882e+01, -5.2938e-01, -6.7340e+00,  7.7429e-02,\n",
       "         -1.9628e+01,  5.9862e+00, -3.6026e+00, -3.6525e+00, -1.3024e+01,\n",
       "         -3.9807e+00,  1.8268e+01, -4.8537e+00, -7.1648e+00, -4.0309e+00,\n",
       "         -1.4824e+01,  1.1939e+00, -2.7798e+00, -1.4646e+01, -4.5985e+00,\n",
       "         -2.4270e+00,  2.0643e+01, -2.0782e+00, -9.2537e+00, -5.3725e-01,\n",
       "         -7.4677e+00,  8.5336e+00, -8.7241e-01, -6.1865e+00, -2.8691e+00,\n",
       "         -7.7904e+00,  2.2485e+01,  8.8106e+00, -4.1839e+00, -9.8281e+00,\n",
       "         -1.6667e+01,  5.4051e-01, -3.4392e+00, -1.1502e+01, -7.0666e-01,\n",
       "          5.8545e+00,  3.3105e+01,  6.5855e-01, -8.3074e-01,  1.2117e-01,\n",
       "         -2.3999e+01,  6.2395e+00, -2.1673e+00, -1.3722e+01, -2.9942e+00,\n",
       "          1.7562e+00,  1.6198e+01,  2.1520e+00, -3.7220e+00, -3.5370e+00,\n",
       "         -2.0701e+01,  6.3950e-01,  2.8807e+00, -1.0572e+01, -1.7050e+00,\n",
       "         -3.1650e+00,  2.8293e+01, -2.1637e+00, -2.8234e+00, -7.8802e+00,\n",
       "         -2.1322e+01,  1.2977e+00, -5.0554e+00, -3.8965e+00, -1.6251e+00,\n",
       "         -5.5430e+00,  3.4433e+01,  1.1525e+00, -6.9558e+00, -1.0530e+01,\n",
       "         -1.9791e+01,  9.3659e-02, -1.4725e+00, -1.5767e+01, -6.2003e+00,\n",
       "         -1.7919e+00,  2.6141e+01,  3.5348e+00,  1.7068e+00, -3.5541e+00,\n",
       "         -2.3832e+01, -1.9658e+00, -3.9487e+00, -5.6461e+00, -3.3959e-01,\n",
       "         -4.3243e+00,  1.2185e+01, -6.1554e+00, -8.4518e-02, -1.9662e+00,\n",
       "         -2.5153e+01, -3.0603e-01,  4.9533e+00, -6.5590e-01, -6.7699e+00,\n",
       "         -1.3099e+01,  2.5478e+01, -6.7354e+00,  7.5326e+00, -1.5482e+01,\n",
       "         -2.0649e+01, -3.1924e+00,  1.2447e+00, -8.6325e+00,  2.7220e+00,\n",
       "         -1.0754e+00,  2.5887e+01, -1.8343e+00, -5.8250e+00, -9.8522e-01,\n",
       "         -1.8799e+01,  9.8705e+00, -1.1693e+01, -7.6698e+00, -1.1689e+00,\n",
       "         -3.0009e+00,  2.1003e+01,  1.0175e+01, -6.0878e+00, -1.4230e+01,\n",
       "         -1.9529e+01,  5.6943e+00, -7.6389e+00, -8.8921e+00, -6.4869e+00,\n",
       "          3.0327e+00,  3.2202e+01,  2.3903e+00, -8.5579e+00, -1.0602e+01,\n",
       "         -1.4478e+01,  1.1438e+01, -9.1519e+00, -1.3426e+01, -7.2105e+00,\n",
       "         -2.1339e+00,  1.8102e+01, -4.2269e+00, -6.3919e+00, -1.1471e+01,\n",
       "         -1.1530e+01, -2.3037e+00,  4.5634e+00, -2.3289e+00, -4.0732e+00,\n",
       "          4.5448e-01,  3.6609e+01, -2.3520e+00, -5.9377e+00, -6.0784e+00,\n",
       "         -1.9531e+01,  1.8094e-01, -7.1877e+00, -1.1919e+01, -5.7878e+00,\n",
       "         -3.3742e+00,  2.8336e+01, -1.4204e+00,  4.1516e-01, -9.8357e+00,\n",
       "         -3.2814e+01, -7.2639e+00, -1.7275e+00, -1.8743e-02,  2.1443e+00,\n",
       "         -1.0081e+01,  2.3398e+01,  9.0029e-01, -1.0451e+01, -7.1252e+00],\n",
       "        [-2.0582e+01, -5.8056e-01, -8.0572e+00, -1.2949e+01, -2.5826e+00,\n",
       "         -5.2718e+00,  2.5034e+01, -3.8568e+00, -5.1308e+00, -3.4435e+00,\n",
       "         -1.2425e+01,  5.1224e+00, -1.2982e+01,  3.6077e+00, -1.7803e+00,\n",
       "         -3.6426e+00,  1.5814e+01,  4.7411e-01,  1.9376e+00, -1.1864e+01,\n",
       "         -1.4811e+01, -3.8735e+00,  8.4378e+00,  7.7738e-01, -8.5062e-01,\n",
       "          7.4392e-02,  2.0769e+01, -8.0880e+00, -6.6331e+00, -3.8025e+00,\n",
       "         -1.7393e+01,  3.5343e+00, -6.8599e+00, -4.9777e+00,  2.6839e+00,\n",
       "         -1.0657e+01,  2.0468e+01, -6.2507e+00, -8.5429e-01, -1.1741e+01,\n",
       "         -1.7235e+01,  9.3335e+00,  1.3183e+00, -3.3963e+00, -5.4357e+00,\n",
       "         -1.9702e+00,  2.3560e+01,  5.9308e+00, -2.4234e+00, -1.3645e+00,\n",
       "         -1.9575e+01, -7.1333e-01,  2.3078e+00, -4.4736e+00, -4.2323e+00,\n",
       "         -8.5202e+00,  3.1697e+01,  3.9729e-01, -2.5683e+00, -5.6209e+00,\n",
       "         -2.1023e+01, -1.6099e+00, -2.0868e+00, -1.9626e+01, -2.6360e+00,\n",
       "         -8.9352e+00,  2.2756e+01, -3.4007e-01,  1.2495e+00, -6.3432e+00,\n",
       "         -1.8275e+01,  5.4413e+00, -1.4136e+01, -7.0060e+00,  4.3293e+00,\n",
       "         -1.1350e+00,  3.0755e+01,  5.9932e+00, -6.2108e+00, -1.1260e+01,\n",
       "         -1.3324e+01,  1.1471e+01, -5.6787e+00, -6.5890e+00, -8.4957e+00,\n",
       "         -8.3223e+00,  2.7570e+01,  3.1942e+00, -1.0620e+00, -1.3124e+01,\n",
       "         -1.8381e+01, -8.9463e-01, -3.1504e+00, -4.4875e-01, -2.7137e+00,\n",
       "         -1.4955e+01,  9.5642e+00, -2.6483e+00, -4.2320e-02, -1.0207e+01,\n",
       "         -1.9955e+01,  7.7547e+00, -1.0877e+01,  1.1415e+00, -6.5305e+00,\n",
       "         -2.8068e+00,  2.5746e+01,  3.5488e+00, -1.0835e+01, -8.0351e+00,\n",
       "         -1.9213e+01,  2.9155e+00,  1.0890e+01, -1.0438e+01,  3.9463e+00,\n",
       "         -5.2332e+00,  1.8442e+01,  3.8856e+00,  5.1341e+00, -1.4589e+01,\n",
       "         -9.6498e+00,  3.6323e+00, -7.5903e+00, -1.2233e+00,  4.2540e+00,\n",
       "          3.1980e+00,  2.5083e+01,  1.9936e+00, -9.1799e+00, -7.8032e+00,\n",
       "         -1.8042e+01,  3.3756e+00, -4.4899e+00, -3.3579e+00, -9.2052e+00,\n",
       "         -7.8996e+00,  2.4395e+01, -2.2734e+00, -1.1463e+01, -4.1657e+00,\n",
       "         -2.0846e+01, -9.7682e+00, -6.5124e+00, -1.0819e+00,  7.5397e-01,\n",
       "         -1.1415e+00,  2.1498e+01, -2.9341e+00,  1.9903e+00, -1.5551e+01,\n",
       "         -2.0916e+01, -4.9535e-01, -4.8926e+00,  3.3670e+00, -1.0983e+00,\n",
       "         -4.2640e+00,  1.8986e+01,  4.9818e+00, -5.8836e+00, -1.0221e+01,\n",
       "         -2.1560e+01,  1.5008e+01, -1.1834e+01, -1.4877e+01, -4.6098e+00,\n",
       "          6.7012e+00,  1.9182e+01,  5.3442e+00, -2.2440e-01, -1.1994e+01,\n",
       "         -2.7803e+01,  6.6481e-01,  3.2819e+00, -7.7344e+00, -2.0750e+00,\n",
       "         -1.4704e+00,  2.4814e+01,  6.8271e+00,  1.8801e+00, -1.6943e+00,\n",
       "         -2.8335e+01,  7.4908e+00, -4.5841e+00, -7.3522e+00, -3.6232e+00,\n",
       "         -7.3762e-01,  2.7725e+01,  2.5536e+00,  3.2648e-01, -1.1014e+01,\n",
       "         -2.6721e+01, -5.9211e+00, -4.9002e+00, -8.1955e+00,  2.8520e-01,\n",
       "         -7.1651e-02,  2.4777e+01,  4.2186e+00, -1.3141e+00, -8.6989e+00,\n",
       "         -1.8322e+01, -1.0971e+01, -5.8589e+00,  2.6368e+00,  5.2228e-01,\n",
       "         -2.0839e+00,  2.1979e+01, -4.0769e+00,  7.5565e+00, -1.7175e+01,\n",
       "         -1.7244e+01,  1.2706e+01, -7.2545e+00, -1.9397e+00,  5.9834e-01,\n",
       "          3.2414e+00,  1.5433e+01,  7.6505e+00, -1.1488e+01, -1.0204e+01,\n",
       "         -2.6066e+01,  3.1601e+00, -2.3974e+00, -1.4596e+01, -7.2318e+00,\n",
       "          4.6868e+00,  1.7322e+01, -4.4590e-01,  4.7448e+00, -1.7939e+01,\n",
       "         -1.6061e+01,  9.3880e-01, -6.2096e+00, -6.5843e+00, -3.1582e+00,\n",
       "          1.2742e+00,  2.8983e+01, -8.1206e+00,  4.6237e+00, -1.8821e+01,\n",
       "         -1.9451e+01, -1.0475e+00, -6.3737e+00, -1.1957e+01,  9.5326e-01,\n",
       "         -2.2556e+00,  3.4551e+01,  3.9682e+00,  2.1874e+00, -8.3366e+00,\n",
       "         -1.8535e+01,  1.3656e+00, -6.3801e+00, -1.1094e+01, -1.5048e+00,\n",
       "         -3.8019e+00,  2.4642e+01, -2.4686e+00, -7.1022e+00,  6.7520e-01,\n",
       "         -2.1504e+01,  6.8638e+00, -2.4458e+00,  9.9058e-01, -4.6518e-01,\n",
       "          7.1494e-01,  2.6603e+01, -1.3181e+00,  2.5909e+00, -1.1251e+01,\n",
       "         -2.4182e+01,  6.3706e+00, -1.0626e+01, -6.6033e+00, -2.0523e-01,\n",
       "         -6.2459e-01,  2.7146e+01,  2.0097e+00, -2.4962e+00, -1.8680e+01,\n",
       "         -1.2171e+01,  2.1966e+00, -4.9554e+00, -1.7207e+00, -7.6545e-01,\n",
       "          2.4091e+00,  1.9469e+01, -4.6947e+00,  6.3377e+00, -3.8897e+00,\n",
       "         -1.9663e+01,  3.1312e+00,  1.1131e+01, -7.3020e+00, -2.6233e-01,\n",
       "         -1.1852e+01,  9.4074e+00,  2.6769e+00, -8.1145e+00, -3.2060e+00,\n",
       "         -1.9539e+01,  9.5690e-01,  2.3192e-01, -9.0230e+00,  6.1612e+00,\n",
       "         -2.7221e+00,  3.0467e+01,  2.3548e+00,  7.6534e+00, -1.4046e+01,\n",
       "         -1.3935e+01,  8.0119e+00, -6.3567e+00, -1.3100e+01, -2.7390e+00,\n",
       "         -5.7134e+00,  2.4538e+01, -2.6931e+00, -6.8173e+00, -9.4419e+00]])"
      ]
     },
     "execution_count": 5,
     "metadata": {},
     "output_type": "execute_result"
    }
   ],
   "source": [
    "## Your solution\n",
    "def activation(x):\n",
    "    return 1/(1+torch.exp(-x))\n",
    "\n",
    "inputs = images.view(images.shape[0],-1)\n",
    "\n",
    "w1 = torch.randn(784,256)\n",
    "b1 = torch.randn(256)\n",
    "\n",
    "w2 = torch.randn(256,10)\n",
    "b2 = torch.randn(10)\n",
    "\n",
    "print(inputs.size())\n",
    "print(w1.size())\n",
    "\n",
    "h = activation(torch.mm(inputs,w1)+b1)\n",
    "print(h.size())\n",
    "out = torch.mm(h,w2)+b2\n",
    "print(out.size())\n",
    "out.view(2,-1)\n",
    "\n",
    "# out = # output of your network, should have shape (64,10)"
   ]
  },
  {
   "cell_type": "markdown",
   "metadata": {},
   "source": [
    "Now we have 10 outputs for our network. We want to pass in an image to our network and get out a probability distribution over the classes that tells us the likely class(es) the image belongs to. Something that looks like this:\n",
    "<img src='assets/image_distribution.png' width=500px>\n",
    "\n",
    "Here we see that the probability for each class is roughly the same. This is representing an untrained network, it hasn't seen any data yet so it just returns a uniform distribution with equal probabilities for each class.\n",
    "\n",
    "To calculate this probability distribution, we often use the [**softmax** function](https://en.wikipedia.org/wiki/Softmax_function). Mathematically this looks like\n",
    "\n",
    "$$\n",
    "\\Large \\sigma(x_i) = \\cfrac{e^{x_i}}{\\sum_k^K{e^{x_k}}}\n",
    "$$\n",
    "\n",
    "What this does is squish each input $x_i$ between 0 and 1 and normalizes the values to give you a proper probability distribution where the probabilites sum up to one.\n",
    "\n",
    "> **Exercise:** Implement a function `softmax` that performs the softmax calculation and returns probability distributions for each example in the batch. Note that you'll need to pay attention to the shapes when doing this. If you have a tensor `a` with shape `(64, 10)` and a tensor `b` with shape `(64,)`, doing `a/b` will give you an error because PyTorch will try to do the division across the columns (called broadcasting) but you'll get a size mismatch. The way to think about this is for each of the 64 examples, you only want to divide by one value, the sum in the denominator. So you need `b` to have a shape of `(64, 1)`. This way PyTorch will divide the 10 values in each row of `a` by the one value in each row of `b`. Pay attention to how you take the sum as well. You'll need to define the `dim` keyword in `torch.sum`. Setting `dim=0` takes the sum across the rows while `dim=1` takes the sum across the columns."
   ]
  },
  {
   "cell_type": "code",
   "execution_count": 57,
   "metadata": {},
   "outputs": [
    {
     "name": "stdout",
     "output_type": "stream",
     "text": [
      "learn\n",
      "tensor([2.2897e+12, 1.3081e+13, 5.3122e+10, 8.1680e+08, 1.3307e+14, 1.0840e+13,\n",
      "        6.2831e+09, 1.0368e+11, 7.8623e+08, 1.4915e+15, 1.8946e+06, 8.5542e+06,\n",
      "        1.8520e+12, 4.3103e+04, 2.9097e+06, 8.5814e+07, 9.2254e+08, 5.8230e+09,\n",
      "        2.3832e+14, 1.0830e+07, 1.9377e+12, 8.9964e+14, 2.2547e+11, 1.9588e+05,\n",
      "        1.1615e+11, 1.7489e+11, 1.3222e+09, 9.6653e+13, 7.2786e+07, 7.9286e+15,\n",
      "        2.0240e+12, 1.4509e+10, 7.4478e+10, 7.3775e+06, 1.0469e+09, 7.7486e+08,\n",
      "        1.7052e+10, 5.8306e+13, 7.6331e+09, 2.2736e+13, 9.4085e+11, 1.4247e+04,\n",
      "        1.5181e+11, 1.0222e+08, 7.8263e+10, 3.9331e+10, 2.1700e+09, 1.7602e+08,\n",
      "        2.1737e+08, 5.9763e+10, 1.0986e+12, 5.7630e+10, 3.5087e+09, 5.3736e+06,\n",
      "        3.3334e+07, 3.8660e+12, 1.0127e+15, 5.0352e+10, 3.5756e+11, 6.1584e+11,\n",
      "        2.8526e+08, 8.0500e+04, 1.7049e+13, 4.5354e+10])\n",
      "learn\n",
      "torch.Size([64, 10])\n",
      "torch.Size([10])\n",
      "torch.Size([64, 10])\n",
      "torch.Size([64])\n"
     ]
    }
   ],
   "source": [
    "# arnob = torch.randn(2,3)\n",
    "# print(arnob)\n",
    "# print(\"torch arnob exp\")\n",
    "# print((arnob).view(-1,1))\n",
    "# print((torch.exp(arnob)).view(-1,1))\n",
    "print(\"learn\")\n",
    "print(torch.sum(torch.exp(out),dim = 1))\n",
    "print(\"learn\")\n",
    "def softmax(x):\n",
    "    return torch.exp(x)/torch.sum(torch.exp(x),dim = 1).view(-1,1)\n",
    "\n",
    "    ## TODO: Implement the softmax function here\n",
    "print(out.size())\n",
    "print(torch.sum(torch.exp(out),dim =0).size())\n",
    "# Here, out should be the output of the network in the previous excercise with shape (64,10)\n",
    "probabilities = softmax(out)\n",
    "\n",
    "# Does it have the right shape? Should be (64, 10)\n",
    "print(probabilities.shape)\n",
    "# Does it sum to 1?\n",
    "print(probabilities.sum(dim=1).size())"
   ]
  },
  {
   "cell_type": "markdown",
   "metadata": {},
   "source": [
    "## Building networks with PyTorch\n",
    "\n",
    "PyTorch provides a module `nn` that makes building networks much simpler. Here I'll show you how to build the same one as above with 784 inputs, 256 hidden units, 10 output units and a softmax output."
   ]
  },
  {
   "cell_type": "code",
   "execution_count": 59,
   "metadata": {},
   "outputs": [],
   "source": [
    "from torch import nn"
   ]
  },
  {
   "cell_type": "code",
   "execution_count": 60,
   "metadata": {},
   "outputs": [],
   "source": [
    "class Network(nn.Module):\n",
    "    def __init__(self):\n",
    "        super().__init__()\n",
    "        \n",
    "        # Inputs to hidden layer linear transformation\n",
    "        self.hidden = nn.Linear(784, 256)\n",
    "        # Output layer, 10 units - one for each digit\n",
    "        self.output = nn.Linear(256, 10)\n",
    "        \n",
    "        # Define sigmoid activation and softmax output \n",
    "        self.sigmoid = nn.Sigmoid()\n",
    "        self.softmax = nn.Softmax(dim=1)\n",
    "        \n",
    "    def forward(self, x):\n",
    "        # Pass the input tensor through each of our operations\n",
    "        x = self.hidden(x)\n",
    "        x = self.sigmoid(x)\n",
    "        x = self.output(x)\n",
    "        x = self.softmax(x)\n",
    "        \n",
    "        return x"
   ]
  },
  {
   "cell_type": "markdown",
   "metadata": {},
   "source": [
    "Let's go through this bit by bit.\n",
    "\n",
    "```python\n",
    "class Network(nn.Module):\n",
    "```\n",
    "\n",
    "Here we're inheriting from `nn.Module`. Combined with `super().__init__()` this creates a class that tracks the architecture and provides a lot of useful methods and attributes. It is mandatory to inherit from `nn.Module` when you're creating a class for your network. The name of the class itself can be anything.\n",
    "\n",
    "```python\n",
    "self.hidden = nn.Linear(784, 256)\n",
    "```\n",
    "\n",
    "This line creates a module for a linear transformation, $x\\mathbf{W} + b$, with 784 inputs and 256 outputs and assigns it to `self.hidden`. The module automatically creates the weight and bias tensors which we'll use in the `forward` method. You can access the weight and bias tensors once the network (`net`) is created with `net.hidden.weight` and `net.hidden.bias`.\n",
    "\n",
    "```python\n",
    "self.output = nn.Linear(256, 10)\n",
    "```\n",
    "\n",
    "Similarly, this creates another linear transformation with 256 inputs and 10 outputs.\n",
    "\n",
    "```python\n",
    "self.sigmoid = nn.Sigmoid()\n",
    "self.softmax = nn.Softmax(dim=1)\n",
    "```\n",
    "\n",
    "Here I defined operations for the sigmoid activation and softmax output. Setting `dim=1` in `nn.Softmax(dim=1)` calculates softmax across the columns.\n",
    "\n",
    "```python\n",
    "def forward(self, x):\n",
    "```\n",
    "\n",
    "PyTorch networks created with `nn.Module` must have a `forward` method defined. It takes in a tensor `x` and passes it through the operations you defined in the `__init__` method.\n",
    "\n",
    "```python\n",
    "x = self.hidden(x)\n",
    "x = self.sigmoid(x)\n",
    "x = self.output(x)\n",
    "x = self.softmax(x)\n",
    "```\n",
    "\n",
    "Here the input tensor `x` is passed through each operation and reassigned to `x`. We can see that the input tensor goes through the hidden layer, then a sigmoid function, then the output layer, and finally the softmax function. It doesn't matter what you name the variables here, as long as the inputs and outputs of the operations match the network architecture you want to build. The order in which you define things in the `__init__` method doesn't matter, but you'll need to sequence the operations correctly in the `forward` method.\n",
    "\n",
    "Now we can create a `Network` object."
   ]
  },
  {
   "cell_type": "code",
   "execution_count": 61,
   "metadata": {},
   "outputs": [
    {
     "data": {
      "text/plain": [
       "Network(\n",
       "  (hidden): Linear(in_features=784, out_features=256, bias=True)\n",
       "  (output): Linear(in_features=256, out_features=10, bias=True)\n",
       "  (sigmoid): Sigmoid()\n",
       "  (softmax): Softmax(dim=1)\n",
       ")"
      ]
     },
     "execution_count": 61,
     "metadata": {},
     "output_type": "execute_result"
    }
   ],
   "source": [
    "# Create the network and look at it's text representation\n",
    "model = Network()\n",
    "model"
   ]
  },
  {
   "cell_type": "markdown",
   "metadata": {},
   "source": [
    "You can define the network somewhat more concisely and clearly using the `torch.nn.functional` module. This is the most common way you'll see networks defined as many operations are simple element-wise functions. We normally import this module as `F`, `import torch.nn.functional as F`."
   ]
  },
  {
   "cell_type": "code",
   "execution_count": null,
   "metadata": {},
   "outputs": [],
   "source": [
    "import torch.nn.functional as F\n",
    "\n",
    "class Network(nn.Module):\n",
    "    def __init__(self):\n",
    "        super().__init__()\n",
    "        # Inputs to hidden layer linear transformation\n",
    "        self.hidden = nn.Linear(784, 256)\n",
    "        # Output layer, 10 units - one for each digit\n",
    "        self.output = nn.Linear(256, 10)\n",
    "        \n",
    "    def forward(self, x):\n",
    "        # Hidden layer with sigmoid activation\n",
    "        x = F.sigmoid(self.hidden(x))\n",
    "        # Output layer with softmax activation\n",
    "        x = F.softmax(self.output(x), dim=1)\n",
    "        \n",
    "        return x"
   ]
  },
  {
   "cell_type": "markdown",
   "metadata": {},
   "source": [
    "### Activation functions\n",
    "\n",
    "So far we've only been looking at the sigmoid activation function, but in general any function can be used as an activation function. The only requirement is that for a network to approximate a non-linear function, the activation functions must be non-linear. Here are a few more examples of common activation functions: Tanh (hyperbolic tangent), and ReLU (rectified linear unit).\n",
    "\n",
    "<img src=\"assets/activation.png\" width=700px>\n",
    "\n",
    "In practice, the ReLU function is used almost exclusively as the activation function for hidden layers."
   ]
  },
  {
   "cell_type": "markdown",
   "metadata": {},
   "source": [
    "### Your Turn to Build a Network\n",
    "\n",
    "<img src=\"assets/mlp_mnist.png\" width=600px>\n",
    "\n",
    "> **Exercise:** Create a network with 784 input units, a hidden layer with 128 units and a ReLU activation, then a hidden layer with 64 units and a ReLU activation, and finally an output layer with a softmax activation as shown above. You can use a ReLU activation with the `nn.ReLU` module or `F.relu` function.\n",
    "\n",
    "It's good practice to name your layers by their type of network, for instance 'fc' to represent a fully-connected layer. As you code your solution, use `fc1`, `fc2`, and `fc3` as your layer names."
   ]
  },
  {
   "cell_type": "code",
   "execution_count": 76,
   "metadata": {
    "scrolled": true
   },
   "outputs": [
    {
     "data": {
      "text/plain": [
       "Network(\n",
       "  (fc1): Linear(in_features=784, out_features=128, bias=True)\n",
       "  (fc2): Linear(in_features=128, out_features=64, bias=True)\n",
       "  (fc3): Linear(in_features=64, out_features=10, bias=True)\n",
       ")"
      ]
     },
     "execution_count": 76,
     "metadata": {},
     "output_type": "execute_result"
    }
   ],
   "source": [
    "## Your solution here\n",
    "import torch.nn.functional as F\n",
    "from torch import nn \n",
    "\n",
    "class Network(nn.Module):\n",
    "    def __init__(self):\n",
    "        super().__init__()\n",
    "        self.fc1 = nn.Linear(784,128)\n",
    "        self.fc2 = nn.Linear(128,64)\n",
    "#         output\n",
    "        self.fc3 = nn.Linear(64,10)\n",
    "    \n",
    "    def forward(self,x):\n",
    "        x = self.fc1(x)\n",
    "        x = F.relu(x)\n",
    "        x = self.fc2(x)\n",
    "        x = F.relu(x)\n",
    "        x = self.fc3(x)\n",
    "        x = F.softmax(x,dim=1)\n",
    "        \n",
    "        return x\n",
    "    \n",
    "model = Network()\n",
    "model"
   ]
  },
  {
   "cell_type": "markdown",
   "metadata": {},
   "source": [
    "### Initializing weights and biases\n",
    "\n",
    "The weights and such are automatically initialized for you, but it's possible to customize how they are initialized. The weights and biases are tensors attached to the layer you defined, you can get them with `model.fc1.weight` for instance."
   ]
  },
  {
   "cell_type": "code",
   "execution_count": 77,
   "metadata": {},
   "outputs": [
    {
     "name": "stdout",
     "output_type": "stream",
     "text": [
      "Parameter containing:\n",
      "tensor([[-0.0095, -0.0096, -0.0204,  ..., -0.0277, -0.0119, -0.0090],\n",
      "        [ 0.0330,  0.0080,  0.0294,  ..., -0.0065,  0.0201,  0.0182],\n",
      "        [-0.0239,  0.0335,  0.0286,  ...,  0.0170, -0.0290, -0.0267],\n",
      "        ...,\n",
      "        [-0.0294, -0.0283, -0.0101,  ..., -0.0059,  0.0138,  0.0063],\n",
      "        [-0.0239,  0.0315, -0.0273,  ...,  0.0092, -0.0153, -0.0173],\n",
      "        [ 0.0200,  0.0191, -0.0240,  ..., -0.0256,  0.0092, -0.0292]],\n",
      "       requires_grad=True)\n",
      "Parameter containing:\n",
      "tensor([-0.0026,  0.0245,  0.0114, -0.0257, -0.0020,  0.0275, -0.0040, -0.0011,\n",
      "         0.0248,  0.0330, -0.0089,  0.0138,  0.0227, -0.0106, -0.0029, -0.0119,\n",
      "         0.0119,  0.0267,  0.0127,  0.0113, -0.0122, -0.0305, -0.0205, -0.0305,\n",
      "        -0.0293,  0.0215,  0.0356,  0.0141,  0.0184, -0.0135,  0.0011,  0.0201,\n",
      "         0.0318, -0.0101,  0.0002,  0.0169,  0.0153, -0.0183,  0.0136,  0.0255,\n",
      "        -0.0045,  0.0115, -0.0332, -0.0217, -0.0004,  0.0281, -0.0006,  0.0324,\n",
      "         0.0253, -0.0323,  0.0340, -0.0306,  0.0140,  0.0315,  0.0065,  0.0259,\n",
      "         0.0113,  0.0278, -0.0345, -0.0329,  0.0281, -0.0055, -0.0233,  0.0240,\n",
      "        -0.0246, -0.0253,  0.0032, -0.0155, -0.0210, -0.0152, -0.0272,  0.0342,\n",
      "         0.0196,  0.0305, -0.0290, -0.0161, -0.0074, -0.0059, -0.0262,  0.0314,\n",
      "         0.0300,  0.0216, -0.0239,  0.0274, -0.0234, -0.0268,  0.0039, -0.0289,\n",
      "         0.0307,  0.0293,  0.0188, -0.0053,  0.0300, -0.0141,  0.0155,  0.0266,\n",
      "         0.0136, -0.0336, -0.0348, -0.0227, -0.0165,  0.0143,  0.0252,  0.0028,\n",
      "         0.0347,  0.0288,  0.0320, -0.0187, -0.0221, -0.0085,  0.0226, -0.0352,\n",
      "         0.0156,  0.0094,  0.0048,  0.0297,  0.0038,  0.0339, -0.0163, -0.0149,\n",
      "        -0.0179,  0.0143, -0.0033, -0.0069, -0.0163,  0.0154, -0.0120,  0.0016],\n",
      "       requires_grad=True)\n"
     ]
    }
   ],
   "source": [
    "print(model.fc1.weight)\n",
    "print(model.fc1.bias)"
   ]
  },
  {
   "cell_type": "markdown",
   "metadata": {},
   "source": [
    "For custom initialization, we want to modify these tensors in place. These are actually autograd *Variables*, so we need to get back the actual tensors with `model.fc1.weight.data`. Once we have the tensors, we can fill them with zeros (for biases) or random normal values."
   ]
  },
  {
   "cell_type": "code",
   "execution_count": 78,
   "metadata": {},
   "outputs": [
    {
     "data": {
      "text/plain": [
       "tensor([0., 0., 0., 0., 0., 0., 0., 0., 0., 0., 0., 0., 0., 0., 0., 0., 0., 0., 0., 0., 0., 0., 0., 0.,\n",
       "        0., 0., 0., 0., 0., 0., 0., 0., 0., 0., 0., 0., 0., 0., 0., 0., 0., 0., 0., 0., 0., 0., 0., 0.,\n",
       "        0., 0., 0., 0., 0., 0., 0., 0., 0., 0., 0., 0., 0., 0., 0., 0., 0., 0., 0., 0., 0., 0., 0., 0.,\n",
       "        0., 0., 0., 0., 0., 0., 0., 0., 0., 0., 0., 0., 0., 0., 0., 0., 0., 0., 0., 0., 0., 0., 0., 0.,\n",
       "        0., 0., 0., 0., 0., 0., 0., 0., 0., 0., 0., 0., 0., 0., 0., 0., 0., 0., 0., 0., 0., 0., 0., 0.,\n",
       "        0., 0., 0., 0., 0., 0., 0., 0.])"
      ]
     },
     "execution_count": 78,
     "metadata": {},
     "output_type": "execute_result"
    }
   ],
   "source": [
    "# Set biases to all zeros\n",
    "model.fc1.bias.data.fill_(0)"
   ]
  },
  {
   "cell_type": "code",
   "execution_count": 79,
   "metadata": {},
   "outputs": [
    {
     "data": {
      "text/plain": [
       "tensor([[ 0.0057, -0.0051, -0.0077,  ...,  0.0105, -0.0067,  0.0063],\n",
       "        [-0.0068,  0.0007, -0.0083,  ..., -0.0189,  0.0093, -0.0014],\n",
       "        [ 0.0058,  0.0041, -0.0132,  ..., -0.0001, -0.0149, -0.0154],\n",
       "        ...,\n",
       "        [ 0.0117, -0.0064,  0.0076,  ..., -0.0137, -0.0011, -0.0095],\n",
       "        [-0.0007, -0.0004,  0.0103,  ...,  0.0173,  0.0159, -0.0015],\n",
       "        [-0.0186, -0.0120,  0.0001,  ..., -0.0065,  0.0054,  0.0149]])"
      ]
     },
     "execution_count": 79,
     "metadata": {},
     "output_type": "execute_result"
    }
   ],
   "source": [
    "# sample from random normal with standard dev = 0.01\n",
    "model.fc1.weight.data.normal_(std=0.01)"
   ]
  },
  {
   "cell_type": "markdown",
   "metadata": {},
   "source": [
    "### Forward pass\n",
    "\n",
    "Now that we have a network, let's see what happens when we pass in an image."
   ]
  },
  {
   "cell_type": "code",
   "execution_count": null,
   "metadata": {},
   "outputs": [],
   "source": [
    "# Grab some data \n",
    "dataiter = iter(trainloader)\n",
    "images, labels = dataiter.next()\n",
    "\n",
    "# Resize images into a 1D vector, new shape is (batch size, color channels, image pixels) \n",
    "images.resize_(64, 1, 784)\n",
    "# or images.resize_(images.shape[0], 1, 784) to automatically get batch size\n",
    "\n",
    "# Forward pass through the network\n",
    "img_idx = 0\n",
    "ps = model.forward(images[img_idx,:])\n",
    "\n",
    "img = images[img_idx]\n",
    "helper.view_classify(img.view(1, 28, 28), ps)"
   ]
  },
  {
   "cell_type": "markdown",
   "metadata": {},
   "source": [
    "As you can see above, our network has basically no idea what this digit is. It's because we haven't trained it yet, all the weights are random!\n",
    "\n",
    "### Using `nn.Sequential`\n",
    "\n",
    "PyTorch provides a convenient way to build networks like this where a tensor is passed sequentially through operations, `nn.Sequential` ([documentation](https://pytorch.org/docs/master/nn.html#torch.nn.Sequential)). Using this to build the equivalent network:"
   ]
  },
  {
   "cell_type": "code",
   "execution_count": null,
   "metadata": {},
   "outputs": [],
   "source": [
    "# Hyperparameters for our network\n",
    "input_size = 784\n",
    "hidden_sizes = [128, 64]\n",
    "output_size = 10\n",
    "\n",
    "# Build a feed-forward network\n",
    "model = nn.Sequential(nn.Linear(input_size, hidden_sizes[0]),\n",
    "                      nn.ReLU(),\n",
    "                      nn.Linear(hidden_sizes[0], hidden_sizes[1]),\n",
    "                      nn.ReLU(),\n",
    "                      nn.Linear(hidden_sizes[1], output_size),\n",
    "                      nn.Softmax(dim=1))\n",
    "print(model)\n",
    "\n",
    "# Forward pass through the network and display output\n",
    "images, labels = next(iter(trainloader))\n",
    "images.resize_(images.shape[0], 1, 784)\n",
    "ps = model.forward(images[0,:])\n",
    "helper.view_classify(images[0].view(1, 28, 28), ps)"
   ]
  },
  {
   "cell_type": "markdown",
   "metadata": {},
   "source": [
    "Here our model is the same as before: 784 input units, a hidden layer with 128 units, ReLU activation, 64 unit hidden layer, another ReLU, then the output layer with 10 units, and the softmax output.\n",
    "\n",
    "The operations are available by passing in the appropriate index. For example, if you want to get first Linear operation and look at the weights, you'd use `model[0]`."
   ]
  },
  {
   "cell_type": "code",
   "execution_count": null,
   "metadata": {},
   "outputs": [],
   "source": [
    "print(model[0])\n",
    "model[0].weight"
   ]
  },
  {
   "cell_type": "markdown",
   "metadata": {},
   "source": [
    "You can also pass in an `OrderedDict` to name the individual layers and operations, instead of using incremental integers. Note that dictionary keys must be unique, so _each operation must have a different name_."
   ]
  },
  {
   "cell_type": "code",
   "execution_count": null,
   "metadata": {},
   "outputs": [],
   "source": [
    "from collections import OrderedDict\n",
    "model = nn.Sequential(OrderedDict([\n",
    "                      ('fc1', nn.Linear(input_size, hidden_sizes[0])),\n",
    "                      ('relu1', nn.ReLU()),\n",
    "                      ('fc2', nn.Linear(hidden_sizes[0], hidden_sizes[1])),\n",
    "                      ('relu2', nn.ReLU()),\n",
    "                      ('output', nn.Linear(hidden_sizes[1], output_size)),\n",
    "                      ('softmax', nn.Softmax(dim=1))]))\n",
    "model"
   ]
  },
  {
   "cell_type": "markdown",
   "metadata": {},
   "source": [
    "Now you can access layers either by integer or the name"
   ]
  },
  {
   "cell_type": "code",
   "execution_count": null,
   "metadata": {},
   "outputs": [],
   "source": [
    "print(model[0])\n",
    "print(model.fc1)"
   ]
  },
  {
   "cell_type": "markdown",
   "metadata": {},
   "source": [
    "In the next notebook, we'll see how we can train a neural network to accuractly predict the numbers appearing in the MNIST images."
   ]
  }
 ],
 "metadata": {
  "kernelspec": {
   "display_name": "Python 3",
   "language": "python",
   "name": "python3"
  },
  "language_info": {
   "codemirror_mode": {
    "name": "ipython",
    "version": 3
   },
   "file_extension": ".py",
   "mimetype": "text/x-python",
   "name": "python",
   "nbconvert_exporter": "python",
   "pygments_lexer": "ipython3",
   "version": "3.7.4"
  }
 },
 "nbformat": 4,
 "nbformat_minor": 2
}
